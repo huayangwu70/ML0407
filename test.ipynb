{
 "cells": [
  {
   "cell_type": "markdown",
   "metadata": {
    "collapsed": true
   },
   "source": [
    "# 標題一\n",
    "## 標題二\n",
    "\n",
    "![圖: XXX](圖.png)\n",
    "\n",
    "[LaTex 語法](https://en.wikibooks.org/wiki/LaTeX/Mathematics)\n",
    "\n",
    "姓名 | 身高 | 體重\n",
    "___ | ___ | ___\n",
    "Elwing | 175 | 75\n",
    "\n",
    "$ \\frac {1}{2} \\times \\pi R_1^2 $\n",
    "\n",
    "\n",
    "\n",
    "\n"
   ]
  },
  {
   "cell_type": "code",
   "execution_count": null,
   "metadata": {},
   "outputs": [],
   "source": []
  }
 ],
 "metadata": {
  "kernelspec": {
   "display_name": "Python 3",
   "language": "python",
   "name": "python3"
  },
  "language_info": {
   "codemirror_mode": {
    "name": "ipython",
    "version": 3
   },
   "file_extension": ".py",
   "mimetype": "text/x-python",
   "name": "python",
   "nbconvert_exporter": "python",
   "pygments_lexer": "ipython3",
   "version": "3.7.6"
  }
 },
 "nbformat": 4,
 "nbformat_minor": 1
}
